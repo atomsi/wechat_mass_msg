{
 "cells": [
  {
   "cell_type": "code",
   "execution_count": null,
   "metadata": {
    "scrolled": true
   },
   "outputs": [
    {
     "name": "stdout",
     "output_type": "stream",
     "text": [
      "█\r"
     ]
    },
    {
     "name": "stderr",
     "output_type": "stream",
     "text": [
      "Getting uuid of QR code.\n",
      "Downloading QR code.\n",
      "Please scan the QR code to log in.\n"
     ]
    }
   ],
   "source": [
    "import itchat\n",
    "import pandas as pd\n",
    "# 登录，执行本函数，itchat自动把二维码下载到本地并打开，手机微信扫描即可。\n",
    "itchat.auto_login()"
   ]
  },
  {
   "cell_type": "code",
   "execution_count": null,
   "metadata": {
    "collapsed": true
   },
   "outputs": [],
   "source": [
    "friendList = itchat.get_friends(update=True)[1:]\n",
    "len(friendList)"
   ]
  },
  {
   "cell_type": "markdown",
   "metadata": {},
   "source": [
    "import time\n",
    "SINCERE_WISH = u'***与家人给您拜年！辞旧迎新，感谢过去各位的帮助与支持，新年到，祝大家身体健康，万事如意！'\n",
    "\n",
    "itchat.send( SINCERE_WISH, 'filehelper')"
   ]
  },
  {
   "cell_type": "code",
   "execution_count": null,
   "metadata": {
    "collapsed": true
   },
   "outputs": [],
   "source": []
  },
  {
   "cell_type": "code",
   "execution_count": null,
   "metadata": {
    "collapsed": true
   },
   "outputs": [],
   "source": [
    "count = 0\n",
    "for friend in friendList:\n",
    "    itchat.send( SINCERE_WISH, friend['UserName'])\n",
    "    time.sleep(5)\n",
    "    count += 1\n",
    "print(\"----end----\")"
   ]
  },
  {
   "cell_type": "code",
   "execution_count": null,
   "metadata": {
    "collapsed": true
   },
   "outputs": [],
   "source": []
  }
 ],
 "metadata": {
  "kernelspec": {
   "display_name": "Python [default]",
   "language": "python",
   "name": "python3"
  },
  "language_info": {
   "codemirror_mode": {
    "name": "ipython",
    "version": 3
   },
   "file_extension": ".py",
   "mimetype": "text/x-python",
   "name": "python",
   "nbconvert_exporter": "python",
   "pygments_lexer": "ipython3",
   "version": "3.6.5"
  }
 },
 "nbformat": 4,
 "nbformat_minor": 2
}
